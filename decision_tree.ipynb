{
 "cells": [
  {
   "cell_type": "code",
   "execution_count": 1,
   "metadata": {},
   "outputs": [],
   "source": [
    "import pandas as pd\n",
    "from sklearn import tree\n",
    "from sklearn.tree import DecisionTreeClassifier\n"
   ]
  },
  {
   "cell_type": "code",
   "execution_count": 2,
   "metadata": {},
   "outputs": [
    {
     "name": "stdout",
     "output_type": "stream",
     "text": [
      "     Pregnancies  Glucose  BloodPressure  SkinThickness  Insulin   BMI  \\\n",
      "0              6      148             72             35        0  33.6   \n",
      "1              1       85             66             29        0  26.6   \n",
      "2              8      183             64              0        0  23.3   \n",
      "3              1       89             66             23       94  28.1   \n",
      "4              0      137             40             35      168  43.1   \n",
      "..           ...      ...            ...            ...      ...   ...   \n",
      "763           10      101             76             48      180  32.9   \n",
      "764            2      122             70             27        0  36.8   \n",
      "765            5      121             72             23      112  26.2   \n",
      "766            1      126             60              0        0  30.1   \n",
      "767            1       93             70             31        0  30.4   \n",
      "\n",
      "     DiabetesPedigreeFunction  Age  Outcome  \n",
      "0                       0.627   50        1  \n",
      "1                       0.351   31        0  \n",
      "2                       0.672   32        1  \n",
      "3                       0.167   21        0  \n",
      "4                       2.288   33        1  \n",
      "..                        ...  ...      ...  \n",
      "763                     0.171   63        0  \n",
      "764                     0.340   27        0  \n",
      "765                     0.245   30        0  \n",
      "766                     0.349   47        1  \n",
      "767                     0.315   23        0  \n",
      "\n",
      "[768 rows x 9 columns]\n"
     ]
    }
   ],
   "source": [
    "df = pd.read_csv(r\"diabetes.csv\")\n",
    "print(df)"
   ]
  },
  {
   "cell_type": "code",
   "execution_count": 3,
   "metadata": {},
   "outputs": [
    {
     "name": "stdout",
     "output_type": "stream",
     "text": [
      "Pregnancies                 0\n",
      "Glucose                     0\n",
      "BloodPressure               0\n",
      "SkinThickness               0\n",
      "Insulin                     0\n",
      "BMI                         0\n",
      "DiabetesPedigreeFunction    0\n",
      "Age                         0\n",
      "Outcome                     0\n",
      "dtype: int64\n"
     ]
    }
   ],
   "source": [
    "# test Null in the dataset\n",
    "null_counts = df.isnull().sum()\n",
    "print(null_counts)"
   ]
  },
  {
   "cell_type": "markdown",
   "metadata": {},
   "source": [
    "Based on data description from Kaggle: \\\n",
    "Pregnancies: To express the Number of pregnancies,\n",
    "Glucose: To express the Glucose level in blood,\n",
    "BloodPressure: To express the Blood pressure measurement,\n",
    "SkinThickness: To express the thickness of the skin,\n",
    "Insulin: To express the Insulin level in blood,\n",
    "BMI: To express the Body mass index,\n",
    "DiabetesPedigreeFunction: To express the Diabetes percentage,\n",
    "Age: To express the age,\n",
    "Outcome: To express the final result 1 is Yes and 0 is No.\n",
    "\n",
    "It is impossible to be zero Glucose, BloodPressure, SkinThickness, Insulin, BMI, DiabetesPedigreeFunction and Age. So I start with checking 0 in the dataset."
   ]
  },
  {
   "cell_type": "code",
   "execution_count": 4,
   "metadata": {},
   "outputs": [
    {
     "name": "stdout",
     "output_type": "stream",
     "text": [
      "<class 'pandas.core.frame.DataFrame'>\n",
      "RangeIndex: 768 entries, 0 to 767\n",
      "Data columns (total 9 columns):\n",
      " #   Column                    Non-Null Count  Dtype  \n",
      "---  ------                    --------------  -----  \n",
      " 0   Pregnancies               768 non-null    int64  \n",
      " 1   Glucose                   768 non-null    int64  \n",
      " 2   BloodPressure             768 non-null    int64  \n",
      " 3   SkinThickness             768 non-null    int64  \n",
      " 4   Insulin                   768 non-null    int64  \n",
      " 5   BMI                       768 non-null    float64\n",
      " 6   DiabetesPedigreeFunction  768 non-null    float64\n",
      " 7   Age                       768 non-null    int64  \n",
      " 8   Outcome                   768 non-null    int64  \n",
      "dtypes: float64(2), int64(7)\n",
      "memory usage: 54.1 KB\n",
      "Number of Pregnancies: 111\n",
      "Number of Glucose: 5\n",
      "Number of BloodPressure: 35\n",
      "Number of SkinThickness: 227\n",
      "Number of Insulin: 374\n",
      "Number of BMI: 11\n",
      "Number of DiabetesPedigreeFunction: 0\n",
      "Number of Age: 0\n",
      "Number of Outcome: 500\n"
     ]
    }
   ],
   "source": [
    "df.info()\n",
    "for column in df:\n",
    "    zero_count = (df[column] == 0).sum()\n",
    "    print(f\"Number of {column}: {zero_count}\")"
   ]
  },
  {
   "cell_type": "code",
   "execution_count": 5,
   "metadata": {},
   "outputs": [
    {
     "name": "stdout",
     "output_type": "stream",
     "text": [
      "Mean Glucose: 120.89\n",
      "Number of zero values before replacement: 5\n",
      "Number of zero values after replacement: 0\n",
      "count    768.000000\n",
      "mean     121.681605\n",
      "std       30.436016\n",
      "min       44.000000\n",
      "25%       99.750000\n",
      "50%      117.000000\n",
      "75%      140.250000\n",
      "max      199.000000\n",
      "Name: Glucose, dtype: float64\n"
     ]
    }
   ],
   "source": [
    "ST_mean = df[\"Glucose\"].mean()\n",
    "print(f\"Mean Glucose: {ST_mean:.2f}\")\n",
    "\n",
    "zero_count = (df[\"Glucose\"] == 0).sum()\n",
    "print(f\"Number of zero values before replacement: {zero_count}\")\n",
    "\n",
    "df[\"Glucose\"] = df[\"Glucose\"].replace(0, ST_mean)\n",
    "\n",
    "zero_count_after = (df[\"Glucose\"] == 0).sum()\n",
    "print(f\"Number of zero values after replacement: {zero_count_after}\")\n",
    "\n",
    "print(df[\"Glucose\"].describe())"
   ]
  },
  {
   "cell_type": "code",
   "execution_count": 6,
   "metadata": {},
   "outputs": [
    {
     "name": "stdout",
     "output_type": "stream",
     "text": [
      "Mean BloodPressure: 69.11\n",
      "Number of zero values before replacement: 35\n",
      "Number of zero values after replacement: 0\n",
      "count    768.000000\n",
      "mean      72.254807\n",
      "std       12.115932\n",
      "min       24.000000\n",
      "25%       64.000000\n",
      "50%       72.000000\n",
      "75%       80.000000\n",
      "max      122.000000\n",
      "Name: BloodPressure, dtype: float64\n"
     ]
    }
   ],
   "source": [
    "ST_mean = df[\"BloodPressure\"].mean()\n",
    "print(f\"Mean BloodPressure: {ST_mean:.2f}\")\n",
    "\n",
    "zero_count = (df[\"BloodPressure\"] == 0).sum()\n",
    "print(f\"Number of zero values before replacement: {zero_count}\")\n",
    "\n",
    "df[\"BloodPressure\"] = df[\"BloodPressure\"].replace(0, ST_mean)\n",
    "\n",
    "zero_count_after = (df[\"BloodPressure\"] == 0).sum()\n",
    "print(f\"Number of zero values after replacement: {zero_count_after}\")\n",
    "\n",
    "print(df[\"BloodPressure\"].describe())"
   ]
  },
  {
   "cell_type": "code",
   "execution_count": 7,
   "metadata": {},
   "outputs": [
    {
     "name": "stdout",
     "output_type": "stream",
     "text": [
      "Mean SkinThickness: 20.54\n",
      "Number of zero values before replacement: 227\n",
      "Number of zero values after replacement: 0\n",
      "count    768.000000\n",
      "mean      26.606479\n",
      "std        9.631241\n",
      "min        7.000000\n",
      "25%       20.536458\n",
      "50%       23.000000\n",
      "75%       32.000000\n",
      "max       99.000000\n",
      "Name: SkinThickness, dtype: float64\n"
     ]
    }
   ],
   "source": [
    "ST_mean = df[\"SkinThickness\"].mean()\n",
    "print(f\"Mean SkinThickness: {ST_mean:.2f}\")\n",
    "\n",
    "zero_count = (df[\"SkinThickness\"] == 0).sum()\n",
    "print(f\"Number of zero values before replacement: {zero_count}\")\n",
    "\n",
    "df[\"SkinThickness\"] = df[\"SkinThickness\"].replace(0, ST_mean)\n",
    "\n",
    "zero_count_after = (df[\"SkinThickness\"] == 0).sum()\n",
    "print(f\"Number of zero values after replacement: {zero_count_after}\")\n",
    "\n",
    "print(df[\"SkinThickness\"].describe())"
   ]
  },
  {
   "cell_type": "code",
   "execution_count": 8,
   "metadata": {},
   "outputs": [
    {
     "name": "stdout",
     "output_type": "stream",
     "text": [
      "Mean Insulin: 79.80\n",
      "Number of zero values before replacement: 374\n",
      "Number of zero values after replacement: 0\n",
      "count    768.000000\n",
      "mean     118.660163\n",
      "std       93.080358\n",
      "min       14.000000\n",
      "25%       79.799479\n",
      "50%       79.799479\n",
      "75%      127.250000\n",
      "max      846.000000\n",
      "Name: Insulin, dtype: float64\n"
     ]
    }
   ],
   "source": [
    "ST_mean = df[\"Insulin\"].mean()\n",
    "print(f\"Mean Insulin: {ST_mean:.2f}\")\n",
    "\n",
    "zero_count = (df[\"Insulin\"] == 0).sum()\n",
    "print(f\"Number of zero values before replacement: {zero_count}\")\n",
    "\n",
    "df[\"Insulin\"] = df[\"Insulin\"].replace(0, ST_mean)\n",
    "\n",
    "zero_count_after = (df[\"Insulin\"] == 0).sum()\n",
    "print(f\"Number of zero values after replacement: {zero_count_after}\")\n",
    "\n",
    "print(df[\"Insulin\"].describe())"
   ]
  },
  {
   "cell_type": "code",
   "execution_count": 9,
   "metadata": {},
   "outputs": [
    {
     "name": "stdout",
     "output_type": "stream",
     "text": [
      "Mean BMI: 31.99\n",
      "Number of zero values before replacement: 11\n",
      "Number of zero values after replacement: 0\n",
      "count    768.000000\n",
      "mean      32.450805\n",
      "std        6.875374\n",
      "min       18.200000\n",
      "25%       27.500000\n",
      "50%       32.000000\n",
      "75%       36.600000\n",
      "max       67.100000\n",
      "Name: BMI, dtype: float64\n"
     ]
    }
   ],
   "source": [
    "ST_mean = df[\"BMI\"].mean()\n",
    "print(f\"Mean BMI: {ST_mean:.2f}\")\n",
    "\n",
    "zero_count = (df[\"BMI\"] == 0).sum()\n",
    "print(f\"Number of zero values before replacement: {zero_count}\")\n",
    "\n",
    "df[\"BMI\"] = df[\"BMI\"].replace(0, ST_mean)\n",
    "\n",
    "zero_count_after = (df[\"BMI\"] == 0).sum()\n",
    "print(f\"Number of zero values after replacement: {zero_count_after}\")\n",
    "\n",
    "print(df[\"BMI\"].describe())"
   ]
  },
  {
   "cell_type": "code",
   "execution_count": 10,
   "metadata": {},
   "outputs": [
    {
     "name": "stdout",
     "output_type": "stream",
     "text": [
      "     Pregnancies  Glucose  BloodPressure  SkinThickness     Insulin   BMI  \\\n",
      "0              6    148.0           72.0      35.000000   79.799479  33.6   \n",
      "1              1     85.0           66.0      29.000000   79.799479  26.6   \n",
      "2              8    183.0           64.0      20.536458   79.799479  23.3   \n",
      "3              1     89.0           66.0      23.000000   94.000000  28.1   \n",
      "4              0    137.0           40.0      35.000000  168.000000  43.1   \n",
      "..           ...      ...            ...            ...         ...   ...   \n",
      "763           10    101.0           76.0      48.000000  180.000000  32.9   \n",
      "764            2    122.0           70.0      27.000000   79.799479  36.8   \n",
      "765            5    121.0           72.0      23.000000  112.000000  26.2   \n",
      "766            1    126.0           60.0      20.536458   79.799479  30.1   \n",
      "767            1     93.0           70.0      31.000000   79.799479  30.4   \n",
      "\n",
      "     DiabetesPedigreeFunction  Age  \n",
      "0                       0.627   50  \n",
      "1                       0.351   31  \n",
      "2                       0.672   32  \n",
      "3                       0.167   21  \n",
      "4                       2.288   33  \n",
      "..                        ...  ...  \n",
      "763                     0.171   63  \n",
      "764                     0.340   27  \n",
      "765                     0.245   30  \n",
      "766                     0.349   47  \n",
      "767                     0.315   23  \n",
      "\n",
      "[768 rows x 8 columns]\n",
      "0      1\n",
      "1      0\n",
      "2      1\n",
      "3      0\n",
      "4      1\n",
      "      ..\n",
      "763    0\n",
      "764    0\n",
      "765    0\n",
      "766    1\n",
      "767    0\n",
      "Name: Outcome, Length: 768, dtype: int64\n"
     ]
    }
   ],
   "source": [
    "features = [\"Pregnancies\", \"Glucose\", \"BloodPressure\", \"SkinThickness\", \"Insulin\", \"BMI\", \"DiabetesPedigreeFunction\", \"Age\"]\n",
    "X = df[features]\n",
    "y = df[\"Outcome\"]\n",
    "print(X)\n",
    "print(y)"
   ]
  },
  {
   "cell_type": "code",
   "execution_count": 11,
   "metadata": {},
   "outputs": [
    {
     "data": {
      "text/plain": [
       "[Text(0.4810036307053942, 0.9722222222222222, 'Glucose <= 127.5\\ngini = 0.454\\nsamples = 768\\nvalue = [500, 268]'),\n",
       " Text(0.2213433609958506, 0.9166666666666666, 'Age <= 28.5\\ngini = 0.313\\nsamples = 485\\nvalue = [391, 94]'),\n",
       " Text(0.3511734958506224, 0.9444444444444444, 'True  '),\n",
       " Text(0.10088174273858921, 0.8611111111111112, 'BMI <= 45.4\\ngini = 0.155\\nsamples = 271\\nvalue = [248, 23]'),\n",
       " Text(0.0700207468879668, 0.8055555555555556, 'BMI <= 30.95\\ngini = 0.139\\nsamples = 267\\nvalue = [247, 20]'),\n",
       " Text(0.03319502074688797, 0.75, 'Pregnancies <= 7.0\\ngini = 0.028\\nsamples = 143\\nvalue = [141, 2]'),\n",
       " Text(0.024896265560165973, 0.6944444444444444, 'Insulin <= 48.5\\ngini = 0.014\\nsamples = 142\\nvalue = [141, 1]'),\n",
       " Text(0.016597510373443983, 0.6388888888888888, 'Insulin <= 47.0\\ngini = 0.105\\nsamples = 18\\nvalue = [17, 1]'),\n",
       " Text(0.008298755186721992, 0.5833333333333334, 'gini = 0.0\\nsamples = 17\\nvalue = [17, 0]'),\n",
       " Text(0.024896265560165973, 0.5833333333333334, 'gini = 0.0\\nsamples = 1\\nvalue = [0, 1]'),\n",
       " Text(0.03319502074688797, 0.6388888888888888, 'gini = 0.0\\nsamples = 124\\nvalue = [124, 0]'),\n",
       " Text(0.04149377593360996, 0.6944444444444444, 'gini = 0.0\\nsamples = 1\\nvalue = [0, 1]'),\n",
       " Text(0.10684647302904564, 0.75, 'DiabetesPedigreeFunction <= 0.501\\ngini = 0.248\\nsamples = 124\\nvalue = [106, 18]'),\n",
       " Text(0.058091286307053944, 0.6944444444444444, 'BMI <= 31.1\\ngini = 0.142\\nsamples = 78\\nvalue = [72, 6]'),\n",
       " Text(0.04979253112033195, 0.6388888888888888, 'gini = 0.0\\nsamples = 1\\nvalue = [0, 1]'),\n",
       " Text(0.06639004149377593, 0.6388888888888888, 'DiabetesPedigreeFunction <= 0.142\\ngini = 0.121\\nsamples = 77\\nvalue = [72.0, 5.0]'),\n",
       " Text(0.043568464730290454, 0.5833333333333334, 'Glucose <= 118.0\\ngini = 0.444\\nsamples = 6\\nvalue = [4, 2]'),\n",
       " Text(0.035269709543568464, 0.5277777777777778, 'gini = 0.0\\nsamples = 4\\nvalue = [4, 0]'),\n",
       " Text(0.05186721991701245, 0.5277777777777778, 'gini = 0.0\\nsamples = 2\\nvalue = [0, 2]'),\n",
       " Text(0.08921161825726141, 0.5833333333333334, 'Insulin <= 36.5\\ngini = 0.081\\nsamples = 71\\nvalue = [68, 3]'),\n",
       " Text(0.06846473029045644, 0.5277777777777778, 'Insulin <= 27.0\\ngini = 0.444\\nsamples = 3\\nvalue = [2, 1]'),\n",
       " Text(0.06016597510373444, 0.4722222222222222, 'gini = 0.0\\nsamples = 2\\nvalue = [2, 0]'),\n",
       " Text(0.07676348547717843, 0.4722222222222222, 'gini = 0.0\\nsamples = 1\\nvalue = [0, 1]'),\n",
       " Text(0.10995850622406639, 0.5277777777777778, 'BMI <= 31.796\\ngini = 0.057\\nsamples = 68\\nvalue = [66, 2]'),\n",
       " Text(0.09336099585062241, 0.4722222222222222, 'Age <= 24.5\\ngini = 0.444\\nsamples = 3\\nvalue = [2, 1]'),\n",
       " Text(0.08506224066390042, 0.4166666666666667, 'gini = 0.0\\nsamples = 2\\nvalue = [2, 0]'),\n",
       " Text(0.1016597510373444, 0.4166666666666667, 'gini = 0.0\\nsamples = 1\\nvalue = [0, 1]'),\n",
       " Text(0.12655601659751037, 0.4722222222222222, 'SkinThickness <= 20.768\\ngini = 0.03\\nsamples = 65\\nvalue = [64, 1]'),\n",
       " Text(0.11825726141078838, 0.4166666666666667, 'Glucose <= 109.5\\ngini = 0.142\\nsamples = 13\\nvalue = [12, 1]'),\n",
       " Text(0.10995850622406639, 0.3611111111111111, 'gini = 0.0\\nsamples = 11\\nvalue = [11, 0]'),\n",
       " Text(0.12655601659751037, 0.3611111111111111, 'DiabetesPedigreeFunction <= 0.233\\ngini = 0.5\\nsamples = 2\\nvalue = [1, 1]'),\n",
       " Text(0.11825726141078838, 0.3055555555555556, 'gini = 0.0\\nsamples = 1\\nvalue = [1, 0]'),\n",
       " Text(0.13485477178423236, 0.3055555555555556, 'gini = 0.0\\nsamples = 1\\nvalue = [0, 1]'),\n",
       " Text(0.13485477178423236, 0.4166666666666667, 'gini = 0.0\\nsamples = 52\\nvalue = [52, 0]'),\n",
       " Text(0.15560165975103735, 0.6944444444444444, 'DiabetesPedigreeFunction <= 0.544\\ngini = 0.386\\nsamples = 46\\nvalue = [34, 12]'),\n",
       " Text(0.12655601659751037, 0.6388888888888888, 'BloodPressure <= 61.0\\ngini = 0.5\\nsamples = 10\\nvalue = [5, 5]'),\n",
       " Text(0.11825726141078838, 0.5833333333333334, 'gini = 0.0\\nsamples = 3\\nvalue = [3, 0]'),\n",
       " Text(0.13485477178423236, 0.5833333333333334, 'Insulin <= 149.5\\ngini = 0.408\\nsamples = 7\\nvalue = [2, 5]'),\n",
       " Text(0.12655601659751037, 0.5277777777777778, 'gini = 0.0\\nsamples = 5\\nvalue = [0, 5]'),\n",
       " Text(0.14315352697095435, 0.5277777777777778, 'gini = 0.0\\nsamples = 2\\nvalue = [2, 0]'),\n",
       " Text(0.18464730290456433, 0.6388888888888888, 'DiabetesPedigreeFunction <= 0.664\\ngini = 0.313\\nsamples = 36\\nvalue = [29, 7]'),\n",
       " Text(0.17634854771784234, 0.5833333333333334, 'gini = 0.0\\nsamples = 12\\nvalue = [12, 0]'),\n",
       " Text(0.19294605809128632, 0.5833333333333334, 'BloodPressure <= 67.0\\ngini = 0.413\\nsamples = 24\\nvalue = [17, 7]'),\n",
       " Text(0.15975103734439833, 0.5277777777777778, 'Glucose <= 89.0\\ngini = 0.496\\nsamples = 11\\nvalue = [6, 5]'),\n",
       " Text(0.15145228215767634, 0.4722222222222222, 'gini = 0.0\\nsamples = 3\\nvalue = [3, 0]'),\n",
       " Text(0.16804979253112035, 0.4722222222222222, 'Glucose <= 113.5\\ngini = 0.469\\nsamples = 8\\nvalue = [3, 5]'),\n",
       " Text(0.15975103734439833, 0.4166666666666667, 'gini = 0.0\\nsamples = 4\\nvalue = [0, 4]'),\n",
       " Text(0.17634854771784234, 0.4166666666666667, 'BloodPressure <= 51.0\\ngini = 0.375\\nsamples = 4\\nvalue = [3, 1]'),\n",
       " Text(0.16804979253112035, 0.3611111111111111, 'gini = 0.0\\nsamples = 1\\nvalue = [0, 1]'),\n",
       " Text(0.18464730290456433, 0.3611111111111111, 'gini = 0.0\\nsamples = 3\\nvalue = [3, 0]'),\n",
       " Text(0.22614107883817428, 0.5277777777777778, 'DiabetesPedigreeFunction <= 1.121\\ngini = 0.26\\nsamples = 13\\nvalue = [11, 2]'),\n",
       " Text(0.21784232365145229, 0.4722222222222222, 'Age <= 22.0\\ngini = 0.153\\nsamples = 12\\nvalue = [11, 1]'),\n",
       " Text(0.2095435684647303, 0.4166666666666667, 'DiabetesPedigreeFunction <= 0.784\\ngini = 0.5\\nsamples = 2\\nvalue = [1, 1]'),\n",
       " Text(0.2012448132780083, 0.3611111111111111, 'gini = 0.0\\nsamples = 1\\nvalue = [0, 1]'),\n",
       " Text(0.21784232365145229, 0.3611111111111111, 'gini = 0.0\\nsamples = 1\\nvalue = [1, 0]'),\n",
       " Text(0.22614107883817428, 0.4166666666666667, 'gini = 0.0\\nsamples = 10\\nvalue = [10, 0]'),\n",
       " Text(0.23443983402489627, 0.4722222222222222, 'gini = 0.0\\nsamples = 1\\nvalue = [0, 1]'),\n",
       " Text(0.13174273858921162, 0.8055555555555556, 'Insulin <= 180.0\\ngini = 0.375\\nsamples = 4\\nvalue = [1, 3]'),\n",
       " Text(0.12344398340248963, 0.75, 'gini = 0.0\\nsamples = 3\\nvalue = [0, 3]'),\n",
       " Text(0.1400414937759336, 0.75, 'gini = 0.0\\nsamples = 1\\nvalue = [1, 0]'),\n",
       " Text(0.34180497925311204, 0.8611111111111112, 'BMI <= 26.35\\ngini = 0.443\\nsamples = 214\\nvalue = [143, 71]'),\n",
       " Text(0.33350622406639, 0.8055555555555556, 'gini = 0.0\\nsamples = 39\\nvalue = [39, 0]'),\n",
       " Text(0.350103734439834, 0.8055555555555556, 'Glucose <= 99.5\\ngini = 0.482\\nsamples = 175\\nvalue = [104, 71]'),\n",
       " Text(0.2966804979253112, 0.75, 'DiabetesPedigreeFunction <= 0.796\\ngini = 0.256\\nsamples = 53\\nvalue = [45, 8]'),\n",
       " Text(0.27593360995850624, 0.6944444444444444, 'Age <= 42.5\\ngini = 0.162\\nsamples = 45\\nvalue = [41, 4]'),\n",
       " Text(0.25933609958506226, 0.6388888888888888, 'DiabetesPedigreeFunction <= 0.171\\ngini = 0.059\\nsamples = 33\\nvalue = [32, 1]'),\n",
       " Text(0.25103734439834025, 0.5833333333333334, 'Age <= 32.0\\ngini = 0.375\\nsamples = 4\\nvalue = [3, 1]'),\n",
       " Text(0.24273858921161826, 0.5277777777777778, 'gini = 0.0\\nsamples = 1\\nvalue = [0, 1]'),\n",
       " Text(0.25933609958506226, 0.5277777777777778, 'gini = 0.0\\nsamples = 3\\nvalue = [3, 0]'),\n",
       " Text(0.2676348547717842, 0.5833333333333334, 'gini = 0.0\\nsamples = 29\\nvalue = [29, 0]'),\n",
       " Text(0.2925311203319502, 0.6388888888888888, 'BMI <= 30.85\\ngini = 0.375\\nsamples = 12\\nvalue = [9, 3]'),\n",
       " Text(0.2842323651452282, 0.5833333333333334, 'gini = 0.0\\nsamples = 1\\nvalue = [0, 1]'),\n",
       " Text(0.3008298755186722, 0.5833333333333334, 'Pregnancies <= 5.5\\ngini = 0.298\\nsamples = 11\\nvalue = [9, 2]'),\n",
       " Text(0.2925311203319502, 0.5277777777777778, 'Glucose <= 81.0\\ngini = 0.5\\nsamples = 4\\nvalue = [2, 2]'),\n",
       " Text(0.2842323651452282, 0.4722222222222222, 'gini = 0.0\\nsamples = 2\\nvalue = [2, 0]'),\n",
       " Text(0.3008298755186722, 0.4722222222222222, 'gini = 0.0\\nsamples = 2\\nvalue = [0, 2]'),\n",
       " Text(0.3091286307053942, 0.5277777777777778, 'gini = 0.0\\nsamples = 7\\nvalue = [7, 0]'),\n",
       " Text(0.31742738589211617, 0.6944444444444444, 'Insulin <= 75.9\\ngini = 0.5\\nsamples = 8\\nvalue = [4, 4]'),\n",
       " Text(0.3091286307053942, 0.6388888888888888, 'gini = 0.0\\nsamples = 4\\nvalue = [4, 0]'),\n",
       " Text(0.3257261410788382, 0.6388888888888888, 'gini = 0.0\\nsamples = 4\\nvalue = [0, 4]'),\n",
       " Text(0.40352697095435686, 0.75, 'DiabetesPedigreeFunction <= 0.2\\ngini = 0.499\\nsamples = 122\\nvalue = [59, 63]'),\n",
       " Text(0.3506224066390041, 0.6944444444444444, 'BMI <= 27.65\\ngini = 0.308\\nsamples = 21\\nvalue = [17, 4]'),\n",
       " Text(0.34232365145228216, 0.6388888888888888, 'gini = 0.0\\nsamples = 1\\nvalue = [0, 1]'),\n",
       " Text(0.35892116182572614, 0.6388888888888888, 'Pregnancies <= 5.5\\ngini = 0.255\\nsamples = 20\\nvalue = [17, 3]'),\n",
       " Text(0.3506224066390041, 0.5833333333333334, 'gini = 0.0\\nsamples = 9\\nvalue = [9, 0]'),\n",
       " Text(0.36721991701244816, 0.5833333333333334, 'BMI <= 34.55\\ngini = 0.397\\nsamples = 11\\nvalue = [8, 3]'),\n",
       " Text(0.35892116182572614, 0.5277777777777778, 'Glucose <= 118.5\\ngini = 0.5\\nsamples = 6\\nvalue = [3, 3]'),\n",
       " Text(0.3506224066390041, 0.4722222222222222, 'DiabetesPedigreeFunction <= 0.176\\ngini = 0.375\\nsamples = 4\\nvalue = [3, 1]'),\n",
       " Text(0.34232365145228216, 0.4166666666666667, 'gini = 0.0\\nsamples = 3\\nvalue = [3, 0]'),\n",
       " Text(0.35892116182572614, 0.4166666666666667, 'gini = 0.0\\nsamples = 1\\nvalue = [0, 1]'),\n",
       " Text(0.36721991701244816, 0.4722222222222222, 'gini = 0.0\\nsamples = 2\\nvalue = [0, 2]'),\n",
       " Text(0.3755186721991701, 0.5277777777777778, 'gini = 0.0\\nsamples = 5\\nvalue = [5, 0]'),\n",
       " Text(0.45643153526970953, 0.6944444444444444, 'DiabetesPedigreeFunction <= 0.561\\ngini = 0.486\\nsamples = 101\\nvalue = [42.0, 59.0]'),\n",
       " Text(0.4211618257261411, 0.6388888888888888, 'Age <= 54.5\\ngini = 0.5\\nsamples = 66\\nvalue = [33, 33]'),\n",
       " Text(0.41286307053941906, 0.5833333333333334, 'DiabetesPedigreeFunction <= 0.426\\ngini = 0.495\\nsamples = 60\\nvalue = [27, 33]'),\n",
       " Text(0.3921161825726141, 0.5277777777777778, 'BMI <= 31.15\\ngini = 0.466\\nsamples = 46\\nvalue = [17, 29]'),\n",
       " Text(0.38381742738589214, 0.4722222222222222, 'gini = 0.0\\nsamples = 10\\nvalue = [0, 10]'),\n",
       " Text(0.4004149377593361, 0.4722222222222222, 'BloodPressure <= 67.0\\ngini = 0.498\\nsamples = 36\\nvalue = [17, 19]'),\n",
       " Text(0.38381742738589214, 0.4166666666666667, 'DiabetesPedigreeFunction <= 0.362\\ngini = 0.219\\nsamples = 8\\nvalue = [1, 7]'),\n",
       " Text(0.3755186721991701, 0.3611111111111111, 'gini = 0.0\\nsamples = 7\\nvalue = [0, 7]'),\n",
       " Text(0.3921161825726141, 0.3611111111111111, 'gini = 0.0\\nsamples = 1\\nvalue = [1, 0]'),\n",
       " Text(0.4170124481327801, 0.4166666666666667, 'BMI <= 40.35\\ngini = 0.49\\nsamples = 28\\nvalue = [16, 12]'),\n",
       " Text(0.4087136929460581, 0.3611111111111111, 'SkinThickness <= 32.5\\ngini = 0.461\\nsamples = 25\\nvalue = [16, 9]'),\n",
       " Text(0.4004149377593361, 0.3055555555555556, 'Insulin <= 125.0\\ngini = 0.5\\nsamples = 18\\nvalue = [9, 9]'),\n",
       " Text(0.3921161825726141, 0.25, 'BloodPressure <= 79.0\\ngini = 0.48\\nsamples = 15\\nvalue = [9, 6]'),\n",
       " Text(0.3755186721991701, 0.19444444444444445, 'BloodPressure <= 71.0\\ngini = 0.469\\nsamples = 8\\nvalue = [3, 5]'),\n",
       " Text(0.36721991701244816, 0.1388888888888889, 'BloodPressure <= 68.553\\ngini = 0.375\\nsamples = 4\\nvalue = [3, 1]'),\n",
       " Text(0.35892116182572614, 0.08333333333333333, 'gini = 0.0\\nsamples = 2\\nvalue = [2, 0]'),\n",
       " Text(0.3755186721991701, 0.08333333333333333, 'Glucose <= 110.5\\ngini = 0.5\\nsamples = 2\\nvalue = [1, 1]'),\n",
       " Text(0.36721991701244816, 0.027777777777777776, 'gini = 0.0\\nsamples = 1\\nvalue = [1, 0]'),\n",
       " Text(0.38381742738589214, 0.027777777777777776, 'gini = 0.0\\nsamples = 1\\nvalue = [0, 1]'),\n",
       " Text(0.38381742738589214, 0.1388888888888889, 'gini = 0.0\\nsamples = 4\\nvalue = [0, 4]'),\n",
       " Text(0.4087136929460581, 0.19444444444444445, 'DiabetesPedigreeFunction <= 0.241\\ngini = 0.245\\nsamples = 7\\nvalue = [6, 1]'),\n",
       " Text(0.4004149377593361, 0.1388888888888889, 'gini = 0.0\\nsamples = 1\\nvalue = [0, 1]'),\n",
       " Text(0.4170124481327801, 0.1388888888888889, 'gini = 0.0\\nsamples = 6\\nvalue = [6, 0]'),\n",
       " Text(0.4087136929460581, 0.25, 'gini = 0.0\\nsamples = 3\\nvalue = [0, 3]'),\n",
       " Text(0.4170124481327801, 0.3055555555555556, 'gini = 0.0\\nsamples = 7\\nvalue = [7, 0]'),\n",
       " Text(0.42531120331950206, 0.3611111111111111, 'gini = 0.0\\nsamples = 3\\nvalue = [0, 3]'),\n",
       " Text(0.4336099585062241, 0.5277777777777778, 'DiabetesPedigreeFunction <= 0.464\\ngini = 0.408\\nsamples = 14\\nvalue = [10, 4]'),\n",
       " Text(0.42531120331950206, 0.4722222222222222, 'gini = 0.0\\nsamples = 5\\nvalue = [5, 0]'),\n",
       " Text(0.44190871369294604, 0.4722222222222222, 'Age <= 30.5\\ngini = 0.494\\nsamples = 9\\nvalue = [5, 4]'),\n",
       " Text(0.4336099585062241, 0.4166666666666667, 'gini = 0.0\\nsamples = 3\\nvalue = [3, 0]'),\n",
       " Text(0.45020746887966806, 0.4166666666666667, 'Age <= 41.5\\ngini = 0.444\\nsamples = 6\\nvalue = [2, 4]'),\n",
       " Text(0.44190871369294604, 0.3611111111111111, 'gini = 0.0\\nsamples = 4\\nvalue = [0, 4]'),\n",
       " Text(0.45850622406639, 0.3611111111111111, 'gini = 0.0\\nsamples = 2\\nvalue = [2, 0]'),\n",
       " Text(0.42946058091286304, 0.5833333333333334, 'gini = 0.0\\nsamples = 6\\nvalue = [6, 0]'),\n",
       " Text(0.491701244813278, 0.6388888888888888, 'Pregnancies <= 6.5\\ngini = 0.382\\nsamples = 35\\nvalue = [9, 26]'),\n",
       " Text(0.483402489626556, 0.5833333333333334, 'Age <= 30.5\\ngini = 0.483\\nsamples = 22\\nvalue = [9, 13]'),\n",
       " Text(0.475103734439834, 0.5277777777777778, 'gini = 0.0\\nsamples = 4\\nvalue = [0, 4]'),\n",
       " Text(0.491701244813278, 0.5277777777777778, 'Age <= 34.5\\ngini = 0.5\\nsamples = 18\\nvalue = [9, 9]'),\n",
       " Text(0.475103734439834, 0.4722222222222222, 'BloodPressure <= 57.0\\ngini = 0.245\\nsamples = 7\\nvalue = [6, 1]'),\n",
       " Text(0.46680497925311204, 0.4166666666666667, 'gini = 0.0\\nsamples = 1\\nvalue = [0, 1]'),\n",
       " Text(0.483402489626556, 0.4166666666666667, 'gini = 0.0\\nsamples = 6\\nvalue = [6, 0]'),\n",
       " Text(0.508298755186722, 0.4722222222222222, 'Pregnancies <= 3.0\\ngini = 0.397\\nsamples = 11\\nvalue = [3, 8]'),\n",
       " Text(0.5, 0.4166666666666667, 'BMI <= 33.15\\ngini = 0.48\\nsamples = 5\\nvalue = [3, 2]'),\n",
       " Text(0.491701244813278, 0.3611111111111111, 'gini = 0.0\\nsamples = 2\\nvalue = [0, 2]'),\n",
       " Text(0.508298755186722, 0.3611111111111111, 'gini = 0.0\\nsamples = 3\\nvalue = [3, 0]'),\n",
       " Text(0.516597510373444, 0.4166666666666667, 'gini = 0.0\\nsamples = 6\\nvalue = [0, 6]'),\n",
       " Text(0.5, 0.5833333333333334, 'gini = 0.0\\nsamples = 13\\nvalue = [0, 13]'),\n",
       " Text(0.7406639004149378, 0.9166666666666666, 'BMI <= 29.95\\ngini = 0.474\\nsamples = 283\\nvalue = [109, 174]'),\n",
       " Text(0.610833765560166, 0.9444444444444444, '  False'),\n",
       " Text(0.5995850622406639, 0.8611111111111112, 'Glucose <= 145.5\\ngini = 0.435\\nsamples = 75\\nvalue = [51.0, 24.0]'),\n",
       " Text(0.5663900414937759, 0.8055555555555556, 'Insulin <= 132.5\\ngini = 0.255\\nsamples = 40\\nvalue = [34, 6]'),\n",
       " Text(0.558091286307054, 0.75, 'BMI <= 28.15\\ngini = 0.346\\nsamples = 27\\nvalue = [21, 6]'),\n",
       " Text(0.5414937759336099, 0.6944444444444444, 'BloodPressure <= 73.0\\ngini = 0.236\\nsamples = 22\\nvalue = [19, 3]'),\n",
       " Text(0.533195020746888, 0.6388888888888888, 'Glucose <= 129.5\\ngini = 0.444\\nsamples = 9\\nvalue = [6, 3]'),\n",
       " Text(0.524896265560166, 0.5833333333333334, 'gini = 0.0\\nsamples = 1\\nvalue = [0, 1]'),\n",
       " Text(0.5414937759336099, 0.5833333333333334, 'BloodPressure <= 71.0\\ngini = 0.375\\nsamples = 8\\nvalue = [6, 2]'),\n",
       " Text(0.533195020746888, 0.5277777777777778, 'Glucose <= 138.0\\ngini = 0.245\\nsamples = 7\\nvalue = [6, 1]'),\n",
       " Text(0.524896265560166, 0.4722222222222222, 'gini = 0.0\\nsamples = 5\\nvalue = [5, 0]'),\n",
       " Text(0.5414937759336099, 0.4722222222222222, 'Glucose <= 140.0\\ngini = 0.5\\nsamples = 2\\nvalue = [1, 1]'),\n",
       " Text(0.533195020746888, 0.4166666666666667, 'gini = 0.0\\nsamples = 1\\nvalue = [0, 1]'),\n",
       " Text(0.549792531120332, 0.4166666666666667, 'gini = 0.0\\nsamples = 1\\nvalue = [1, 0]'),\n",
       " Text(0.549792531120332, 0.5277777777777778, 'gini = 0.0\\nsamples = 1\\nvalue = [0, 1]'),\n",
       " Text(0.549792531120332, 0.6388888888888888, 'gini = 0.0\\nsamples = 13\\nvalue = [13, 0]'),\n",
       " Text(0.5746887966804979, 0.6944444444444444, 'Glucose <= 135.0\\ngini = 0.48\\nsamples = 5\\nvalue = [2, 3]'),\n",
       " Text(0.5663900414937759, 0.6388888888888888, 'gini = 0.0\\nsamples = 2\\nvalue = [0, 2]'),\n",
       " Text(0.58298755186722, 0.6388888888888888, 'SkinThickness <= 27.768\\ngini = 0.444\\nsamples = 3\\nvalue = [2, 1]'),\n",
       " Text(0.5746887966804979, 0.5833333333333334, 'gini = 0.0\\nsamples = 2\\nvalue = [2, 0]'),\n",
       " Text(0.5912863070539419, 0.5833333333333334, 'gini = 0.0\\nsamples = 1\\nvalue = [0, 1]'),\n",
       " Text(0.5746887966804979, 0.75, 'gini = 0.0\\nsamples = 13\\nvalue = [13, 0]'),\n",
       " Text(0.6327800829875518, 0.8055555555555556, 'BloodPressure <= 61.0\\ngini = 0.5\\nsamples = 35\\nvalue = [17, 18]'),\n",
       " Text(0.6244813278008299, 0.75, 'gini = 0.0\\nsamples = 4\\nvalue = [4, 0]'),\n",
       " Text(0.6410788381742739, 0.75, 'BloodPressure <= 74.5\\ngini = 0.487\\nsamples = 31\\nvalue = [13, 18]'),\n",
       " Text(0.6244813278008299, 0.6944444444444444, 'Age <= 59.0\\ngini = 0.388\\nsamples = 19\\nvalue = [5, 14]'),\n",
       " Text(0.6161825726141079, 0.6388888888888888, 'Glucose <= 160.0\\ngini = 0.291\\nsamples = 17\\nvalue = [3, 14]'),\n",
       " Text(0.6078838174273858, 0.5833333333333334, 'Glucose <= 151.5\\ngini = 0.49\\nsamples = 7\\nvalue = [3, 4]'),\n",
       " Text(0.5995850622406639, 0.5277777777777778, 'gini = 0.0\\nsamples = 3\\nvalue = [0, 3]'),\n",
       " Text(0.6161825726141079, 0.5277777777777778, 'SkinThickness <= 18.768\\ngini = 0.375\\nsamples = 4\\nvalue = [3, 1]'),\n",
       " Text(0.6078838174273858, 0.4722222222222222, 'gini = 0.0\\nsamples = 1\\nvalue = [0, 1]'),\n",
       " Text(0.6244813278008299, 0.4722222222222222, 'gini = 0.0\\nsamples = 3\\nvalue = [3, 0]'),\n",
       " Text(0.6244813278008299, 0.5833333333333334, 'gini = 0.0\\nsamples = 10\\nvalue = [0, 10]'),\n",
       " Text(0.6327800829875518, 0.6388888888888888, 'gini = 0.0\\nsamples = 2\\nvalue = [2, 0]'),\n",
       " Text(0.6576763485477178, 0.6944444444444444, 'Age <= 40.0\\ngini = 0.444\\nsamples = 12\\nvalue = [8, 4]'),\n",
       " Text(0.6493775933609959, 0.6388888888888888, 'gini = 0.0\\nsamples = 6\\nvalue = [6, 0]'),\n",
       " Text(0.6659751037344398, 0.6388888888888888, 'Glucose <= 159.0\\ngini = 0.444\\nsamples = 6\\nvalue = [2, 4]'),\n",
       " Text(0.6576763485477178, 0.5833333333333334, 'gini = 0.0\\nsamples = 3\\nvalue = [0, 3]'),\n",
       " Text(0.6742738589211619, 0.5833333333333334, 'BloodPressure <= 79.0\\ngini = 0.444\\nsamples = 3\\nvalue = [2, 1]'),\n",
       " Text(0.6659751037344398, 0.5277777777777778, 'gini = 0.0\\nsamples = 1\\nvalue = [0, 1]'),\n",
       " Text(0.6825726141078838, 0.5277777777777778, 'gini = 0.0\\nsamples = 2\\nvalue = [2, 0]'),\n",
       " Text(0.8817427385892116, 0.8611111111111112, 'Glucose <= 157.5\\ngini = 0.402\\nsamples = 208\\nvalue = [58, 150]'),\n",
       " Text(0.8174273858921162, 0.8055555555555556, 'Age <= 30.5\\ngini = 0.479\\nsamples = 116\\nvalue = [46, 70]'),\n",
       " Text(0.7572614107883817, 0.75, 'BloodPressure <= 73.0\\ngini = 0.497\\nsamples = 50\\nvalue = [27, 23]'),\n",
       " Text(0.7157676348547718, 0.6944444444444444, 'BMI <= 32.45\\ngini = 0.426\\nsamples = 26\\nvalue = [8, 18]'),\n",
       " Text(0.7074688796680498, 0.6388888888888888, 'gini = 0.0\\nsamples = 6\\nvalue = [0, 6]'),\n",
       " Text(0.7240663900414938, 0.6388888888888888, 'Pregnancies <= 0.5\\ngini = 0.48\\nsamples = 20\\nvalue = [8, 12]'),\n",
       " Text(0.7074688796680498, 0.5833333333333334, 'BMI <= 33.75\\ngini = 0.198\\nsamples = 9\\nvalue = [1, 8]'),\n",
       " Text(0.6991701244813278, 0.5277777777777778, 'gini = 0.0\\nsamples = 1\\nvalue = [1, 0]'),\n",
       " Text(0.7157676348547718, 0.5277777777777778, 'gini = 0.0\\nsamples = 8\\nvalue = [0, 8]'),\n",
       " Text(0.7406639004149378, 0.5833333333333334, 'BloodPressure <= 57.0\\ngini = 0.463\\nsamples = 11\\nvalue = [7, 4]'),\n",
       " Text(0.7323651452282157, 0.5277777777777778, 'gini = 0.0\\nsamples = 2\\nvalue = [0, 2]'),\n",
       " Text(0.7489626556016598, 0.5277777777777778, 'BloodPressure <= 68.553\\ngini = 0.346\\nsamples = 9\\nvalue = [7, 2]'),\n",
       " Text(0.7406639004149378, 0.4722222222222222, 'gini = 0.0\\nsamples = 6\\nvalue = [6, 0]'),\n",
       " Text(0.7572614107883817, 0.4722222222222222, 'Glucose <= 130.0\\ngini = 0.444\\nsamples = 3\\nvalue = [1, 2]'),\n",
       " Text(0.7489626556016598, 0.4166666666666667, 'gini = 0.0\\nsamples = 1\\nvalue = [1, 0]'),\n",
       " Text(0.7655601659751037, 0.4166666666666667, 'gini = 0.0\\nsamples = 2\\nvalue = [0, 2]'),\n",
       " Text(0.7987551867219918, 0.6944444444444444, 'BMI <= 43.4\\ngini = 0.33\\nsamples = 24\\nvalue = [19, 5]'),\n",
       " Text(0.7821576763485477, 0.6388888888888888, 'Pregnancies <= 4.5\\ngini = 0.18\\nsamples = 20\\nvalue = [18, 2]'),\n",
       " Text(0.7738589211618258, 0.5833333333333334, 'BloodPressure <= 88.0\\ngini = 0.1\\nsamples = 19\\nvalue = [18, 1]'),\n",
       " Text(0.7655601659751037, 0.5277777777777778, 'gini = 0.0\\nsamples = 17\\nvalue = [17, 0]'),\n",
       " Text(0.7821576763485477, 0.5277777777777778, 'Glucose <= 143.0\\ngini = 0.5\\nsamples = 2\\nvalue = [1, 1]'),\n",
       " Text(0.7738589211618258, 0.4722222222222222, 'gini = 0.0\\nsamples = 1\\nvalue = [1, 0]'),\n",
       " Text(0.7904564315352697, 0.4722222222222222, 'gini = 0.0\\nsamples = 1\\nvalue = [0, 1]'),\n",
       " Text(0.7904564315352697, 0.5833333333333334, 'gini = 0.0\\nsamples = 1\\nvalue = [0, 1]'),\n",
       " Text(0.8153526970954357, 0.6388888888888888, 'BloodPressure <= 82.0\\ngini = 0.375\\nsamples = 4\\nvalue = [1, 3]'),\n",
       " Text(0.8070539419087137, 0.5833333333333334, 'gini = 0.0\\nsamples = 1\\nvalue = [1, 0]'),\n",
       " Text(0.8236514522821576, 0.5833333333333334, 'gini = 0.0\\nsamples = 3\\nvalue = [0, 3]'),\n",
       " Text(0.8775933609958506, 0.75, 'DiabetesPedigreeFunction <= 0.429\\ngini = 0.41\\nsamples = 66\\nvalue = [19, 47]'),\n",
       " Text(0.8568464730290456, 0.6944444444444444, 'BMI <= 45.55\\ngini = 0.497\\nsamples = 28\\nvalue = [13, 15]'),\n",
       " Text(0.8485477178423236, 0.6388888888888888, 'BloodPressure <= 92.0\\ngini = 0.491\\nsamples = 23\\nvalue = [13.0, 10.0]'),\n",
       " Text(0.8402489626556017, 0.5833333333333334, 'DiabetesPedigreeFunction <= 0.136\\ngini = 0.472\\nsamples = 21\\nvalue = [13, 8]'),\n",
       " Text(0.8319502074688797, 0.5277777777777778, 'gini = 0.0\\nsamples = 2\\nvalue = [0, 2]'),\n",
       " Text(0.8485477178423236, 0.5277777777777778, 'BMI <= 32.45\\ngini = 0.432\\nsamples = 19\\nvalue = [13, 6]'),\n",
       " Text(0.8402489626556017, 0.4722222222222222, 'gini = 0.0\\nsamples = 5\\nvalue = [5, 0]'),\n",
       " Text(0.8568464730290456, 0.4722222222222222, 'BMI <= 33.05\\ngini = 0.49\\nsamples = 14\\nvalue = [8, 6]'),\n",
       " Text(0.8485477178423236, 0.4166666666666667, 'gini = 0.0\\nsamples = 2\\nvalue = [0, 2]'),\n",
       " Text(0.8651452282157677, 0.4166666666666667, 'SkinThickness <= 37.0\\ngini = 0.444\\nsamples = 12\\nvalue = [8, 4]'),\n",
       " Text(0.8568464730290456, 0.3611111111111111, 'Age <= 42.0\\ngini = 0.397\\nsamples = 11\\nvalue = [8, 3]'),\n",
       " Text(0.8485477178423236, 0.3055555555555556, 'gini = 0.0\\nsamples = 5\\nvalue = [5, 0]'),\n",
       " Text(0.8651452282157677, 0.3055555555555556, 'Age <= 44.5\\ngini = 0.5\\nsamples = 6\\nvalue = [3, 3]'),\n",
       " Text(0.8568464730290456, 0.25, 'gini = 0.0\\nsamples = 3\\nvalue = [0, 3]'),\n",
       " Text(0.8734439834024896, 0.25, 'gini = 0.0\\nsamples = 3\\nvalue = [3, 0]'),\n",
       " Text(0.8734439834024896, 0.3611111111111111, 'gini = 0.0\\nsamples = 1\\nvalue = [0, 1]'),\n",
       " Text(0.8568464730290456, 0.5833333333333334, 'gini = 0.0\\nsamples = 2\\nvalue = [0, 2]'),\n",
       " Text(0.8651452282157677, 0.6388888888888888, 'gini = 0.0\\nsamples = 5\\nvalue = [0, 5]'),\n",
       " Text(0.8983402489626556, 0.6944444444444444, 'Insulin <= 333.5\\ngini = 0.266\\nsamples = 38\\nvalue = [6, 32]'),\n",
       " Text(0.8817427385892116, 0.6388888888888888, 'Age <= 68.0\\ngini = 0.202\\nsamples = 35\\nvalue = [4, 31]'),\n",
       " Text(0.8734439834024896, 0.5833333333333334, 'BMI <= 40.05\\ngini = 0.161\\nsamples = 34\\nvalue = [3, 31]'),\n",
       " Text(0.8651452282157677, 0.5277777777777778, 'gini = 0.0\\nsamples = 24\\nvalue = [0, 24]'),\n",
       " Text(0.8817427385892116, 0.5277777777777778, 'BloodPressure <= 80.0\\ngini = 0.42\\nsamples = 10\\nvalue = [3, 7]'),\n",
       " Text(0.8734439834024896, 0.4722222222222222, 'gini = 0.0\\nsamples = 7\\nvalue = [0, 7]'),\n",
       " Text(0.8900414937759336, 0.4722222222222222, 'gini = 0.0\\nsamples = 3\\nvalue = [3, 0]'),\n",
       " Text(0.8900414937759336, 0.5833333333333334, 'gini = 0.0\\nsamples = 1\\nvalue = [1, 0]'),\n",
       " Text(0.9149377593360996, 0.6388888888888888, 'Age <= 44.0\\ngini = 0.444\\nsamples = 3\\nvalue = [2, 1]'),\n",
       " Text(0.9066390041493776, 0.5833333333333334, 'gini = 0.0\\nsamples = 2\\nvalue = [2, 0]'),\n",
       " Text(0.9232365145228216, 0.5833333333333334, 'gini = 0.0\\nsamples = 1\\nvalue = [0, 1]'),\n",
       " Text(0.946058091286307, 0.8055555555555556, 'Insulin <= 74.9\\ngini = 0.227\\nsamples = 92\\nvalue = [12, 80]'),\n",
       " Text(0.9253112033195021, 0.75, 'BMI <= 46.7\\ngini = 0.444\\nsamples = 3\\nvalue = [2, 1]'),\n",
       " Text(0.91701244813278, 0.6944444444444444, 'gini = 0.0\\nsamples = 2\\nvalue = [2, 0]'),\n",
       " Text(0.9336099585062241, 0.6944444444444444, 'gini = 0.0\\nsamples = 1\\nvalue = [0, 1]'),\n",
       " Text(0.966804979253112, 0.75, 'BMI <= 46.1\\ngini = 0.199\\nsamples = 89\\nvalue = [10, 79]'),\n",
       " Text(0.950207468879668, 0.6944444444444444, 'SkinThickness <= 13.5\\ngini = 0.154\\nsamples = 83\\nvalue = [7.0, 76.0]'),\n",
       " Text(0.941908713692946, 0.6388888888888888, 'gini = 0.0\\nsamples = 1\\nvalue = [1, 0]'),\n",
       " Text(0.9585062240663901, 0.6388888888888888, 'DiabetesPedigreeFunction <= 2.233\\ngini = 0.136\\nsamples = 82\\nvalue = [6, 76]'),\n",
       " Text(0.950207468879668, 0.5833333333333334, 'BloodPressure <= 93.0\\ngini = 0.116\\nsamples = 81\\nvalue = [5, 76]'),\n",
       " Text(0.9273858921161826, 0.5277777777777778, 'SkinThickness <= 16.5\\ngini = 0.078\\nsamples = 74\\nvalue = [3, 71]'),\n",
       " Text(0.9066390041493776, 0.4722222222222222, 'DiabetesPedigreeFunction <= 0.49\\ngini = 0.444\\nsamples = 3\\nvalue = [1, 2]'),\n",
       " Text(0.8983402489626556, 0.4166666666666667, 'gini = 0.0\\nsamples = 1\\nvalue = [1, 0]'),\n",
       " Text(0.9149377593360996, 0.4166666666666667, 'gini = 0.0\\nsamples = 2\\nvalue = [0, 2]'),\n",
       " Text(0.9481327800829875, 0.4722222222222222, 'Pregnancies <= 9.5\\ngini = 0.055\\nsamples = 71\\nvalue = [2, 69]'),\n",
       " Text(0.9315352697095436, 0.4166666666666667, 'Age <= 48.0\\ngini = 0.029\\nsamples = 67\\nvalue = [1, 66]'),\n",
       " Text(0.9232365145228216, 0.3611111111111111, 'gini = 0.0\\nsamples = 53\\nvalue = [0, 53]'),\n",
       " Text(0.9398340248962656, 0.3611111111111111, 'Age <= 50.0\\ngini = 0.133\\nsamples = 14\\nvalue = [1, 13]'),\n",
       " Text(0.9315352697095436, 0.3055555555555556, 'Insulin <= 123.9\\ngini = 0.5\\nsamples = 2\\nvalue = [1, 1]'),\n",
       " Text(0.9232365145228216, 0.25, 'gini = 0.0\\nsamples = 1\\nvalue = [0, 1]'),\n",
       " Text(0.9398340248962656, 0.25, 'gini = 0.0\\nsamples = 1\\nvalue = [1, 0]'),\n",
       " Text(0.9481327800829875, 0.3055555555555556, 'gini = 0.0\\nsamples = 12\\nvalue = [0, 12]'),\n",
       " Text(0.9647302904564315, 0.4166666666666667, 'Glucose <= 177.0\\ngini = 0.375\\nsamples = 4\\nvalue = [1, 3]'),\n",
       " Text(0.9564315352697096, 0.3611111111111111, 'gini = 0.0\\nsamples = 3\\nvalue = [0, 3]'),\n",
       " Text(0.9730290456431535, 0.3611111111111111, 'gini = 0.0\\nsamples = 1\\nvalue = [1, 0]'),\n",
       " Text(0.9730290456431535, 0.5277777777777778, 'BloodPressure <= 99.5\\ngini = 0.408\\nsamples = 7\\nvalue = [2, 5]'),\n",
       " Text(0.9647302904564315, 0.4722222222222222, 'gini = 0.0\\nsamples = 2\\nvalue = [2, 0]'),\n",
       " Text(0.9813278008298755, 0.4722222222222222, 'gini = 0.0\\nsamples = 5\\nvalue = [0, 5]'),\n",
       " Text(0.966804979253112, 0.5833333333333334, 'gini = 0.0\\nsamples = 1\\nvalue = [1, 0]'),\n",
       " Text(0.983402489626556, 0.6944444444444444, 'Insulin <= 177.5\\ngini = 0.5\\nsamples = 6\\nvalue = [3, 3]'),\n",
       " Text(0.975103734439834, 0.6388888888888888, 'gini = 0.0\\nsamples = 3\\nvalue = [0, 3]'),\n",
       " Text(0.991701244813278, 0.6388888888888888, 'gini = 0.0\\nsamples = 3\\nvalue = [3, 0]')]"
      ]
     },
     "execution_count": 11,
     "metadata": {},
     "output_type": "execute_result"
    },
    {
     "data": {
      "image/png": "[encoded data removed]",
      "text/plain": [
       "<Figure size 640x480 with 1 Axes>"
      ]
     },
     "metadata": {},
     "output_type": "display_data"
    }
   ],
   "source": [
    "dtree = DecisionTreeClassifier()\n",
    "dtree = dtree.fit(X ,y)\n",
    "tree.plot_tree(dtree, feature_names=features)"
   ]
  },
  {
   "cell_type": "code",
   "execution_count": 13,
   "metadata": {},
   "outputs": [
    {
     "name": "stdout",
     "output_type": "stream",
     "text": [
      "Mean Squared Error: 0.0\n",
      "R-squared: 1.0\n"
     ]
    }
   ],
   "source": [
    "# Evaluating the model\n",
    "from sklearn.metrics import mean_squared_error, r2_score\n",
    "\n",
    "predictioins = dtree.predict(X)\n",
    "\n",
    "mse = mean_squared_error(y, predictioins)\n",
    "print(f'Mean Squared Error: {mse}')\n",
    "\n",
    "r2 = r2_score(y, predictioins)\n",
    "print(f'R-squared: {r2}')\n",
    "# over-fit"
   ]
  },
  {
   "cell_type": "code",
   "execution_count": 14,
   "metadata": {},
   "outputs": [
    {
     "name": "stdout",
     "output_type": "stream",
     "text": [
      "Cross-validation MSE scores: [0.2987013  0.38961039 0.2987013  0.21568627 0.26797386]\n",
      "Mean MSE: 0.2941 (+/- 0.0566)\n",
      "\n",
      "Cross-validation R-squared scores: [-0.31185185 -0.60416667 -0.28124435 -0.13562753 -0.17340067]\n",
      "Mean R-squared: -0.3013 (+/- 0.1650)\n"
     ]
    }
   ],
   "source": [
    "from sklearn.model_selection import cross_val_score\n",
    "from sklearn.tree import DecisionTreeRegressor\n",
    "import numpy as np\n",
    "# Create a decision tree regressor\n",
    "dt_regressor = DecisionTreeRegressor(random_state=42)\n",
    "\n",
    "# Perform 5-fold cross-validation\n",
    "cv_scores = cross_val_score(dt_regressor, X, y, cv = 5, scoring = 'neg_mean_squared_error')\n",
    "\n",
    "# Convert MSE to positive values\n",
    "mse_scores = -cv_scores\n",
    "\n",
    "# Calculate mean and standard deviation of the scores\n",
    "mean_mse = np.mean(mse_scores)\n",
    "std_mse = np.std(mse_scores)\n",
    "\n",
    "print(f\"Cross-validation MSE scores: {mse_scores}\")\n",
    "print(f\"Mean MSE: {mean_mse:.4f} (+/- {std_mse:.4f})\")\n",
    "\n",
    "# Calculate R-squared scores\n",
    "r2_scores = cross_val_score(dt_regressor, X, y, cv=5, scoring='r2')\n",
    "\n",
    "mean_r2 = np.mean(r2_scores)\n",
    "std_r2 = np.std(r2_scores)\n",
    "\n",
    "print(f\"\\nCross-validation R-squared scores: {r2_scores}\")\n",
    "print(f\"Mean R-squared: {mean_r2:.4f} (+/- {std_r2:.4f})\")"
   ]
  },
  {
   "cell_type": "markdown",
   "metadata": {},
   "source": [
    "poor performance"
   ]
  },
  {
   "cell_type": "code",
   "execution_count": 16,
   "metadata": {},
   "outputs": [
    {
     "name": "stdout",
     "output_type": "stream",
     "text": [
      "[0]\n"
     ]
    },
    {
     "name": "stderr",
     "output_type": "stream",
     "text": [
      "C:\\Users\\piatt\\AppData\\Local\\Packages\\PythonSoftwareFoundation.Python.3.11_qbz5n2kfra8p0\\LocalCache\\local-packages\\Python311\\site-packages\\sklearn\\base.py:493: UserWarning: X does not have valid feature names, but DecisionTreeClassifier was fitted with feature names\n",
      "  warnings.warn(\n"
     ]
    }
   ],
   "source": [
    "print(dtree.predict([[1, 80, 80, 22, 10, 27.8, 0.442, 26]]))"
   ]
  }
 ],
 "metadata": {
  "kernelspec": {
   "display_name": "Python 3",
   "language": "python",
   "name": "python3"
  },
  "language_info": {
   "codemirror_mode": {
    "name": "ipython",
    "version": 3
   },
   "file_extension": ".py",
   "mimetype": "text/x-python",
   "name": "python",
   "nbconvert_exporter": "python",
   "pygments_lexer": "ipython3",
   "version": "3.11.9"
  }
 },
 "nbformat": 4,
 "nbformat_minor": 2
}
